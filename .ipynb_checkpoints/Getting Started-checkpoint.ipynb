{
 "cells": [
  {
   "cell_type": "markdown",
   "id": "a59ffb3a",
   "metadata": {},
   "source": [
    "# BentoML is open-source high performance ML/DL model serving.\n",
    "API serving system with adaptive micro-batching support.\n",
    "PS Reddit: Bento ML API server is able to handle around 3-10x more prediction requests comparing to FLask."
   ]
  },
  {
   "cell_type": "code",
   "execution_count": null,
   "id": "3249f9ca",
   "metadata": {},
   "outputs": [],
   "source": [
    "f"
   ]
  }
 ],
 "metadata": {
  "kernelspec": {
   "display_name": "Python 3",
   "language": "python",
   "name": "python3"
  },
  "language_info": {
   "codemirror_mode": {
    "name": "ipython",
    "version": 3
   },
   "file_extension": ".py",
   "mimetype": "text/x-python",
   "name": "python",
   "nbconvert_exporter": "python",
   "pygments_lexer": "ipython3",
   "version": "3.9.6"
  }
 },
 "nbformat": 4,
 "nbformat_minor": 5
}
