{
 "cells": [
  {
   "cell_type": "markdown",
<<<<<<< HEAD
   "id": "a59ffb3a",
=======
>>>>>>> f119664832db174739d9c2bf60c196be3092e2fa
   "metadata": {},
   "source": [
    "# BentoML is open-source high performance ML/DL model serving.\n",
    "API serving system with adaptive micro-batching support.\n",
    "PS Reddit: Bento ML API server is able to handle around 3-10x more prediction requests comparing to FLask."
   ]
  },
  {
   "cell_type": "markdown",
   "metadata": {},
   "source": [
    "# Structure:"
   ]
  },
  {
   "cell_type": "raw",
   "metadata": {},
   "source": [
    "bento_deploy/\n",
    "├── bento_packer.py       # responsible for packing BentoService\n",
    "├── bento_service.py      # BentoService definition\n",
    "├── model.py               # DL Model definitions\n",
    "├── train.py               # OPTIONAL: training scripts\n",
    "└── requirements.txt"
   ]
  },
  {
   "cell_type": "markdown",
   "metadata": {},
   "source": [
    "*** A model artifact is a ZIP archive of the files necessary to deploy your model as a model deployment or load it back in a notebook session."
   ]
  },
  {
   "cell_type": "code",
   "execution_count": null,
<<<<<<< HEAD
   "id": "3249f9ca",
=======
>>>>>>> f119664832db174739d9c2bf60c196be3092e2fa
   "metadata": {},
   "outputs": [],
   "source": []
  }
 ],
 "metadata": {
  "kernelspec": {
   "display_name": "Python 3",
   "language": "python",
   "name": "python3"
  },
  "language_info": {
   "codemirror_mode": {
    "name": "ipython",
    "version": 3
   },
   "file_extension": ".py",
   "mimetype": "text/x-python",
   "name": "python",
   "nbconvert_exporter": "python",
   "pygments_lexer": "ipython3",
   "version": "3.7.11"
  }
 },
 "nbformat": 4,
 "nbformat_minor": 5
}
